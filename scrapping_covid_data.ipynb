{
 "cells": [
  {
   "cell_type": "markdown",
   "metadata": {
    "toc": true
   },
   "source": [
    "<h1>Table of Contents<span class=\"tocSkip\"></span></h1>\n",
    "<div class=\"toc\"><ul class=\"toc-item\"></ul></div>"
   ]
  },
  {
   "cell_type": "markdown",
   "metadata": {},
   "source": [
    "# Project : Scraping data from worldsometer"
   ]
  },
  {
   "cell_type": "markdown",
   "metadata": {},
   "source": [
    "Scrapping data"
   ]
  },
  {
   "cell_type": "code",
   "execution_count": 25,
   "metadata": {},
   "outputs": [],
   "source": [
    "#%%writefile example.txt\n",
    "# import scrapy\n",
    "\n",
    "\n",
    "# class PopulationSpider(scrapy.Spider):\n",
    "#     name = 'population'\n",
    "#     allowed_domains = ['https://www.worldometers.info']\n",
    "#     start_urls = ['https://www.worldometers.info/coronavirus/']\n",
    "    \n",
    "#     def parse(self, response):\n",
    "#         #title = response.xpath(\"//h1/text()\").get()\n",
    "#         #countries = response.xpath(\"//td/a/text()\").getall()\n",
    "#         test = response.xpath('//*[@id=\"main_table_countries_today\"]//tbody').getall()\n",
    "#         print(test)\n",
    "#         yield {\n",
    "#             'test': test\n",
    "#         }\n"
   ]
  },
  {
   "cell_type": "markdown",
   "metadata": {},
   "source": [
    "Read the data :"
   ]
  },
  {
   "cell_type": "code",
   "execution_count": 2,
   "metadata": {},
   "outputs": [],
   "source": [
    "import os\n",
    "import pandas as pd"
   ]
  },
  {
   "cell_type": "markdown",
   "metadata": {},
   "source": [
    "transform json data to csv :"
   ]
  },
  {
   "cell_type": "code",
   "execution_count": 73,
   "metadata": {},
   "outputs": [
    {
     "data": {
      "text/plain": [
       "[                   country  total_cases  new_cases  total_deaths  new_deaths  \\\n",
       " 0                    World      1346004    73142.0       74654.0      5229.0   \n",
       " 1                    China        81708       39.0        3331.0         2.0   \n",
       " 2                      USA       367004    30331.0       10871.0      1255.0   \n",
       " 3                    Spain       136675     5029.0       13341.0       700.0   \n",
       " 4                    Italy       132547     3599.0       16523.0       636.0   \n",
       " ..                     ...          ...        ...           ...         ...   \n",
       " 208       Papua New Guinea            2        1.0           NaN         NaN   \n",
       " 209  Saint Pierre Miquelon            1        NaN           NaN         NaN   \n",
       " 210            South Sudan            1        NaN           NaN         NaN   \n",
       " 211            Timor-Leste            1        NaN           NaN         NaN   \n",
       " 212                 Total:      1346004    73142.0       74654.0      5230.0   \n",
       " \n",
       "      total_recovered        date  \n",
       " 0           278445.0  2020-04-06  \n",
       " 1            77078.0  2020-04-06  \n",
       " 2            19671.0  2020-04-06  \n",
       " 3            40437.0  2020-04-06  \n",
       " 4            22837.0  2020-04-06  \n",
       " ..               ...         ...  \n",
       " 208              NaN  2020-04-06  \n",
       " 209              NaN  2020-04-06  \n",
       " 210              NaN  2020-04-06  \n",
       " 211              NaN  2020-04-06  \n",
       " 212         278445.0  2020-04-06  \n",
       " \n",
       " [213 rows x 7 columns],\n",
       "                    country  total_cases  new_cases  total_deaths  new_deaths  \\\n",
       " 0                    World      1416426    70422.0       81325.0      6671.0   \n",
       " 1                      USA       390414    23410.0       12474.0      1603.0   \n",
       " 2                    Spain       140511     3836.0       13897.0       556.0   \n",
       " 3                    Italy       135586     3039.0       17127.0       604.0   \n",
       " 4                   France       109069    11059.0       10328.0      1417.0   \n",
       " ..                     ...          ...        ...           ...         ...   \n",
       " 208  Saint Pierre Miquelon            1        NaN           NaN         NaN   \n",
       " 209            South Sudan            1        NaN           NaN         NaN   \n",
       " 210            Timor-Leste            1        NaN           NaN         NaN   \n",
       " 211                  China        81740       32.0        3331.0         NaN   \n",
       " 212                 Total:      1416426    70422.0       81325.0      6671.0   \n",
       " \n",
       "      total_recovered        date  \n",
       " 0           301398.0  2020-04-07  \n",
       " 1            21488.0  2020-04-07  \n",
       " 2            43208.0  2020-04-07  \n",
       " 3            24392.0  2020-04-07  \n",
       " 4            19337.0  2020-04-07  \n",
       " ..               ...         ...  \n",
       " 208              NaN  2020-04-07  \n",
       " 209              NaN  2020-04-07  \n",
       " 210              NaN  2020-04-07  \n",
       " 211          77167.0  2020-04-07  \n",
       " 212         301398.0  2020-04-07  \n",
       " \n",
       " [213 rows x 7 columns],\n",
       "                    country  total_cases  new_cases  total_deaths  new_deaths  \\\n",
       " 0                    World      1436841     5922.0       82421.0       387.0   \n",
       " 1                      USA       400549      214.0       12857.0        16.0   \n",
       " 2                    Spain       141942        NaN       14045.0         NaN   \n",
       " 3                    Italy       135586        NaN       17127.0         NaN   \n",
       " 4                   France       109069        NaN       10328.0         NaN   \n",
       " ..                     ...          ...        ...           ...         ...   \n",
       " 208            South Sudan            2        NaN           NaN         NaN   \n",
       " 209  Saint Pierre Miquelon            1        NaN           NaN         NaN   \n",
       " 210            Timor-Leste            1        NaN           NaN         NaN   \n",
       " 211                  China        81802       62.0        3333.0         2.0   \n",
       " 212                 Total:      1436841     5922.0       82421.0       387.0   \n",
       " \n",
       "      total_recovered       date  \n",
       " 0           303736.0 2020-04-08  \n",
       " 1            21711.0 2020-04-08  \n",
       " 2            43208.0 2020-04-08  \n",
       " 3            24392.0 2020-04-08  \n",
       " 4            19337.0 2020-04-08  \n",
       " ..               ...        ...  \n",
       " 208              NaN 2020-04-08  \n",
       " 209              NaN 2020-04-08  \n",
       " 210              NaN 2020-04-08  \n",
       " 211          77279.0 2020-04-08  \n",
       " 212         303736.0 2020-04-08  \n",
       " \n",
       " [213 rows x 7 columns],\n",
       "                  country  total_cases  new_cases  total_deaths  new_deaths  \\\n",
       " 0             \\n,Asia,\\n       263897    10588.0        9896.0       368.0   \n",
       " 1    \\n,North America,\\n       500220    35899.0       17666.0      2036.0   \n",
       " 2           \\n,Europe,\\n       778852    33936.0       65818.0      4552.0   \n",
       " 3    \\n,South America,\\n        39605     4143.0        1615.0       221.0   \n",
       " 4          \\n,Oceania,\\n         7477      129.0          52.0         1.0   \n",
       " ..                   ...          ...        ...           ...         ...   \n",
       " 222               Total:        39605     4143.0        1615.0       221.0   \n",
       " 223               Total:         7477      129.0          52.0         1.0   \n",
       " 224               Total:        12880      894.0         632.0        56.0   \n",
       " 225               Total:          721        NaN          13.0         NaN   \n",
       " 226               Total:      1603652    85589.0       95692.0      7234.0   \n",
       " \n",
       "      total_recovered       date  \n",
       " 0           129009.0 2020-04-09  \n",
       " 1            32290.0 2020-04-09  \n",
       " 2           185320.0 2020-04-09  \n",
       " 3             4115.0 2020-04-09  \n",
       " 4             3305.0 2020-04-09  \n",
       " ..               ...        ...  \n",
       " 222           4115.0 2020-04-09  \n",
       " 223           3305.0 2020-04-09  \n",
       " 224           1694.0 2020-04-09  \n",
       " 225            619.0 2020-04-09  \n",
       " 226         356352.0 2020-04-09  \n",
       " \n",
       " [227 rows x 7 columns],\n",
       "                  country  total_cases  new_cases  total_deaths  new_deaths  \\\n",
       " 0             \\n,Asia,\\n       275041    11144.0       10224.0       328.0   \n",
       " 1    \\n,North America,\\n       536841    36063.0       19822.0      2135.0   \n",
       " 2           \\n,Europe,\\n       820109    41257.0       70063.0      4245.0   \n",
       " 3    \\n,South America,\\n        44976     5371.0        1809.0       194.0   \n",
       " 4         \\n,Oceania,\\n          7608      131.0          56.0         4.0   \n",
       " ..                   ...          ...        ...           ...         ...   \n",
       " 223               Total:        44976     5371.0        1809.0       194.0   \n",
       " 224               Total:         7608      131.0          56.0         4.0   \n",
       " 225               Total:        13539      659.0         697.0        65.0   \n",
       " 226               Total:          721        NaN          13.0         NaN   \n",
       " 227               Total:      1698835    94625.0      102684.0      6971.0   \n",
       " \n",
       "      total_recovered       date  \n",
       " 0           133960.0 2020-04-10  \n",
       " 1            34452.0 2020-04-10  \n",
       " 2           196782.0 2020-04-10  \n",
       " 3             4619.0 2020-04-10  \n",
       " 4             3515.0 2020-04-10  \n",
       " ..               ...        ...  \n",
       " 223           4619.0 2020-04-10  \n",
       " 224           3515.0 2020-04-10  \n",
       " 225           2237.0 2020-04-10  \n",
       " 226            619.0 2020-04-10  \n",
       " 227         376184.0 2020-04-10  \n",
       " \n",
       " [228 rows x 7 columns],\n",
       "                  country  total_cases  new_cases  total_deaths  new_deaths  \\\n",
       " 0    \\n,North America,\\n       564823    27982.0       21665.0      1843.0   \n",
       " 1           \\n,Europe,\\n       850488    30379.0       73364.0      3301.0   \n",
       " 2             \\n,Asia,\\n       286441    11400.0       10588.0       364.0   \n",
       " 3    \\n,South America,\\n        47422     2446.0        1905.0        96.0   \n",
       " 4          \\n,Oceania,\\n         7702       94.0          60.0         4.0   \n",
       " ..                   ...          ...        ...           ...         ...   \n",
       " 223               Total:        47422     2446.0        1905.0        96.0   \n",
       " 224               Total:         7702       94.0          60.0         4.0   \n",
       " 225               Total:        14212      673.0         745.0        48.0   \n",
       " 226               Total:          721        NaN          13.0         NaN   \n",
       " 227               Total:      1771809    72974.0      108340.0      5656.0   \n",
       " \n",
       "      total_recovered       date  \n",
       " 0            36942.0 2020-04-11  \n",
       " 1           210127.0 2020-04-11  \n",
       " 2           142458.0 2020-04-11  \n",
       " 3             5207.0 2020-04-11  \n",
       " 4             3688.0 2020-04-11  \n",
       " ..               ...        ...  \n",
       " 223           5207.0 2020-04-11  \n",
       " 224           3688.0 2020-04-11  \n",
       " 225           2457.0 2020-04-11  \n",
       " 226            619.0 2020-04-11  \n",
       " 227         401498.0 2020-04-11  \n",
       " \n",
       " [228 rows x 7 columns],\n",
       "                  country  total_cases  new_cases  total_deaths  new_deaths  \\\n",
       " 0             \\n,Asia,\\n       321351    11111.0       11724.0       373.0   \n",
       " 1    \\n,North America,\\n       656082    29018.0       27687.0      2575.0   \n",
       " 2           \\n,Europe,\\n       937288    29902.0       83718.0      3729.0   \n",
       " 3    \\n,South America,\\n        57689     2995.0        2511.0       263.0   \n",
       " 4          \\n,Oceania,\\n         7857       58.0          70.0         4.0   \n",
       " ..                   ...          ...        ...           ...         ...   \n",
       " 223               Total:        57689     2995.0        2511.0       263.0   \n",
       " 224               Total:         7857       58.0          70.0         4.0   \n",
       " 225               Total:        16872      928.0         876.0        38.0   \n",
       " 226               Total:          721        NaN          14.0         NaN   \n",
       " 227               Total:      1997860    74012.0      126600.0      6982.0   \n",
       " \n",
       "      total_recovered       date  \n",
       " 0           155723.0 2020-04-14  \n",
       " 1            49816.0 2020-04-14  \n",
       " 2           243154.0 2020-04-14  \n",
       " 3            21614.0 2020-04-14  \n",
       " 4             4227.0 2020-04-14  \n",
       " ..               ...        ...  \n",
       " 223          21614.0 2020-04-14  \n",
       " 224           4227.0 2020-04-14  \n",
       " 225           3343.0 2020-04-14  \n",
       " 226            639.0 2020-04-14  \n",
       " 227         478516.0 2020-04-14  \n",
       " \n",
       " [228 rows x 7 columns],\n",
       "                  country  total_cases  new_cases  total_deaths  new_deaths  \\\n",
       " 0    \\n,North America,\\n       656863      781.0       27786.0        99.0   \n",
       " 1          \\n ,Europe,\\n       951062    13774.0       84868.0      1150.0   \n",
       " 2             \\n,Asia,\\n       325798     4447.0       11880.0       156.0   \n",
       " 3    \\n,South America,\\n        58404      715.0        2543.0        32.0   \n",
       " 4          \\n,Oceania,\\n         7924       67.0          72.0         2.0   \n",
       " ..                   ...          ...        ...           ...         ...   \n",
       " 223               Total:        58404      715.0        2543.0        32.0   \n",
       " 224               Total:         7924       67.0          72.0         2.0   \n",
       " 225               Total:        17038      166.0         881.0         5.0   \n",
       " 226               Total:          721        NaN          14.0         NaN   \n",
       " 227               Total:      2017810    19950.0      128044.0      1444.0   \n",
       " \n",
       "      total_recovered       date  \n",
       " 0            50009.0 2020-04-15  \n",
       " 1           253575.0 2020-04-15  \n",
       " 2           158450.0 2020-04-15  \n",
       " 3            21617.0 2020-04-15  \n",
       " 4             4415.0 2020-04-15  \n",
       " ..               ...        ...  \n",
       " 223          21617.0 2020-04-15  \n",
       " 224           4415.0 2020-04-15  \n",
       " 225           3410.0 2020-04-15  \n",
       " 226            639.0 2020-04-15  \n",
       " 227         492115.0 2020-04-15  \n",
       " \n",
       " [228 rows x 7 columns]]"
      ]
     },
     "execution_count": 73,
     "metadata": {},
     "output_type": "execute_result"
    }
   ],
   "source": [
    "path = 'worldsometter/worldsometter/data/'\n",
    "day_list = []\n",
    "for each_file in os.listdir(path):\n",
    "    filename = path+each_file\n",
    "    try :\n",
    "        df = pd.read_json(filename)\n",
    "        columns = df.columns\n",
    "        for i in range(len(columns)-1):\n",
    "            df[columns[i]] = df[columns[i]].apply(lambda x: ','.join(map(str, x)))\n",
    "    except:\n",
    "        df = pd.read_csv(filename)\n",
    "    for i in range(len(columns)-2):\n",
    "            df[columns[i+1]] = df[columns[i+1]].str.replace('[^\\d.]', '')\n",
    "            df[columns[i+1]] = pd.to_numeric(df[columns[i+1]], errors='coerce')\n",
    "    day_list.append(df)\n",
    "day_list"
   ]
  },
  {
   "cell_type": "code",
   "execution_count": 74,
   "metadata": {
    "scrolled": true
   },
   "outputs": [
    {
     "data": {
      "text/html": [
       "<div>\n",
       "<style scoped>\n",
       "    .dataframe tbody tr th:only-of-type {\n",
       "        vertical-align: middle;\n",
       "    }\n",
       "\n",
       "    .dataframe tbody tr th {\n",
       "        vertical-align: top;\n",
       "    }\n",
       "\n",
       "    .dataframe thead th {\n",
       "        text-align: right;\n",
       "    }\n",
       "</style>\n",
       "<table border=\"1\" class=\"dataframe\">\n",
       "  <thead>\n",
       "    <tr style=\"text-align: right;\">\n",
       "      <th></th>\n",
       "      <th>country</th>\n",
       "      <th>total_cases</th>\n",
       "      <th>new_cases</th>\n",
       "      <th>total_deaths</th>\n",
       "      <th>new_deaths</th>\n",
       "      <th>total_recovered</th>\n",
       "      <th>date</th>\n",
       "    </tr>\n",
       "  </thead>\n",
       "  <tbody>\n",
       "    <tr>\n",
       "      <th>0</th>\n",
       "      <td>World</td>\n",
       "      <td>1346004</td>\n",
       "      <td>73142.0</td>\n",
       "      <td>74654.0</td>\n",
       "      <td>5229.0</td>\n",
       "      <td>278445.0</td>\n",
       "      <td>2020-04-06</td>\n",
       "    </tr>\n",
       "    <tr>\n",
       "      <th>1</th>\n",
       "      <td>China</td>\n",
       "      <td>81708</td>\n",
       "      <td>39.0</td>\n",
       "      <td>3331.0</td>\n",
       "      <td>2.0</td>\n",
       "      <td>77078.0</td>\n",
       "      <td>2020-04-06</td>\n",
       "    </tr>\n",
       "    <tr>\n",
       "      <th>2</th>\n",
       "      <td>USA</td>\n",
       "      <td>367004</td>\n",
       "      <td>30331.0</td>\n",
       "      <td>10871.0</td>\n",
       "      <td>1255.0</td>\n",
       "      <td>19671.0</td>\n",
       "      <td>2020-04-06</td>\n",
       "    </tr>\n",
       "    <tr>\n",
       "      <th>3</th>\n",
       "      <td>Spain</td>\n",
       "      <td>136675</td>\n",
       "      <td>5029.0</td>\n",
       "      <td>13341.0</td>\n",
       "      <td>700.0</td>\n",
       "      <td>40437.0</td>\n",
       "      <td>2020-04-06</td>\n",
       "    </tr>\n",
       "    <tr>\n",
       "      <th>4</th>\n",
       "      <td>Italy</td>\n",
       "      <td>132547</td>\n",
       "      <td>3599.0</td>\n",
       "      <td>16523.0</td>\n",
       "      <td>636.0</td>\n",
       "      <td>22837.0</td>\n",
       "      <td>2020-04-06</td>\n",
       "    </tr>\n",
       "    <tr>\n",
       "      <th>...</th>\n",
       "      <td>...</td>\n",
       "      <td>...</td>\n",
       "      <td>...</td>\n",
       "      <td>...</td>\n",
       "      <td>...</td>\n",
       "      <td>...</td>\n",
       "      <td>...</td>\n",
       "    </tr>\n",
       "    <tr>\n",
       "      <th>223</th>\n",
       "      <td>Total:</td>\n",
       "      <td>58404</td>\n",
       "      <td>715.0</td>\n",
       "      <td>2543.0</td>\n",
       "      <td>32.0</td>\n",
       "      <td>21617.0</td>\n",
       "      <td>2020-04-15</td>\n",
       "    </tr>\n",
       "    <tr>\n",
       "      <th>224</th>\n",
       "      <td>Total:</td>\n",
       "      <td>7924</td>\n",
       "      <td>67.0</td>\n",
       "      <td>72.0</td>\n",
       "      <td>2.0</td>\n",
       "      <td>4415.0</td>\n",
       "      <td>2020-04-15</td>\n",
       "    </tr>\n",
       "    <tr>\n",
       "      <th>225</th>\n",
       "      <td>Total:</td>\n",
       "      <td>17038</td>\n",
       "      <td>166.0</td>\n",
       "      <td>881.0</td>\n",
       "      <td>5.0</td>\n",
       "      <td>3410.0</td>\n",
       "      <td>2020-04-15</td>\n",
       "    </tr>\n",
       "    <tr>\n",
       "      <th>226</th>\n",
       "      <td>Total:</td>\n",
       "      <td>721</td>\n",
       "      <td>NaN</td>\n",
       "      <td>14.0</td>\n",
       "      <td>NaN</td>\n",
       "      <td>639.0</td>\n",
       "      <td>2020-04-15</td>\n",
       "    </tr>\n",
       "    <tr>\n",
       "      <th>227</th>\n",
       "      <td>Total:</td>\n",
       "      <td>2017810</td>\n",
       "      <td>19950.0</td>\n",
       "      <td>128044.0</td>\n",
       "      <td>1444.0</td>\n",
       "      <td>492115.0</td>\n",
       "      <td>2020-04-15</td>\n",
       "    </tr>\n",
       "  </tbody>\n",
       "</table>\n",
       "<p>1778 rows × 7 columns</p>\n",
       "</div>"
      ],
      "text/plain": [
       "    country  total_cases  new_cases  total_deaths  new_deaths  \\\n",
       "0     World      1346004    73142.0       74654.0      5229.0   \n",
       "1     China        81708       39.0        3331.0         2.0   \n",
       "2       USA       367004    30331.0       10871.0      1255.0   \n",
       "3     Spain       136675     5029.0       13341.0       700.0   \n",
       "4     Italy       132547     3599.0       16523.0       636.0   \n",
       "..      ...          ...        ...           ...         ...   \n",
       "223  Total:        58404      715.0        2543.0        32.0   \n",
       "224  Total:         7924       67.0          72.0         2.0   \n",
       "225  Total:        17038      166.0         881.0         5.0   \n",
       "226  Total:          721        NaN          14.0         NaN   \n",
       "227  Total:      2017810    19950.0      128044.0      1444.0   \n",
       "\n",
       "     total_recovered       date  \n",
       "0           278445.0 2020-04-06  \n",
       "1            77078.0 2020-04-06  \n",
       "2            19671.0 2020-04-06  \n",
       "3            40437.0 2020-04-06  \n",
       "4            22837.0 2020-04-06  \n",
       "..               ...        ...  \n",
       "223          21617.0 2020-04-15  \n",
       "224           4415.0 2020-04-15  \n",
       "225           3410.0 2020-04-15  \n",
       "226            639.0 2020-04-15  \n",
       "227         492115.0 2020-04-15  \n",
       "\n",
       "[1778 rows x 7 columns]"
      ]
     },
     "execution_count": 74,
     "metadata": {},
     "output_type": "execute_result"
    }
   ],
   "source": [
    "data = pd.concat(day_list)\n",
    "data.date = pd.to_datetime(data.date)\n",
    "data"
   ]
  },
  {
   "cell_type": "code",
   "execution_count": 75,
   "metadata": {},
   "outputs": [],
   "source": [
    "# il manque les data du 12 et du 13, a recupérer..."
   ]
  },
  {
   "cell_type": "code",
   "execution_count": 76,
   "metadata": {},
   "outputs": [
    {
     "data": {
      "text/plain": [
       "6      8911.0\n",
       "4     10328.0\n",
       "4     10328.0\n",
       "13    12210.0\n",
       "12    13197.0\n",
       "11    13832.0\n",
       "12    15729.0\n",
       "11    15729.0\n",
       "Name: total_deaths, dtype: float64"
      ]
     },
     "execution_count": 76,
     "metadata": {},
     "output_type": "execute_result"
    }
   ],
   "source": [
    "data = data[data.country == 'France']\n",
    "data['total_deaths']"
   ]
  },
  {
   "cell_type": "code",
   "execution_count": 77,
   "metadata": {},
   "outputs": [
    {
     "data": {
      "application/vnd.plotly.v1+json": {
       "config": {
        "plotlyServerURL": "https://plot.ly"
       },
       "data": [
        {
         "mode": "lines+markers",
         "name": "lines+markers",
         "type": "scatter",
         "x": [
          "2020-04-06T00:00:00",
          "2020-04-07T00:00:00",
          "2020-04-08T00:00:00",
          "2020-04-09T00:00:00",
          "2020-04-10T00:00:00",
          "2020-04-11T00:00:00",
          "2020-04-14T00:00:00",
          "2020-04-15T00:00:00"
         ],
         "y": [
          8911,
          10328,
          10328,
          12210,
          13197,
          13832,
          15729,
          15729
         ]
        }
       ],
       "layout": {
        "template": {
         "data": {
          "bar": [
           {
            "error_x": {
             "color": "#2a3f5f"
            },
            "error_y": {
             "color": "#2a3f5f"
            },
            "marker": {
             "line": {
              "color": "#E5ECF6",
              "width": 0.5
             }
            },
            "type": "bar"
           }
          ],
          "barpolar": [
           {
            "marker": {
             "line": {
              "color": "#E5ECF6",
              "width": 0.5
             }
            },
            "type": "barpolar"
           }
          ],
          "carpet": [
           {
            "aaxis": {
             "endlinecolor": "#2a3f5f",
             "gridcolor": "white",
             "linecolor": "white",
             "minorgridcolor": "white",
             "startlinecolor": "#2a3f5f"
            },
            "baxis": {
             "endlinecolor": "#2a3f5f",
             "gridcolor": "white",
             "linecolor": "white",
             "minorgridcolor": "white",
             "startlinecolor": "#2a3f5f"
            },
            "type": "carpet"
           }
          ],
          "choropleth": [
           {
            "colorbar": {
             "outlinewidth": 0,
             "ticks": ""
            },
            "type": "choropleth"
           }
          ],
          "contour": [
           {
            "colorbar": {
             "outlinewidth": 0,
             "ticks": ""
            },
            "colorscale": [
             [
              0,
              "#0d0887"
             ],
             [
              0.1111111111111111,
              "#46039f"
             ],
             [
              0.2222222222222222,
              "#7201a8"
             ],
             [
              0.3333333333333333,
              "#9c179e"
             ],
             [
              0.4444444444444444,
              "#bd3786"
             ],
             [
              0.5555555555555556,
              "#d8576b"
             ],
             [
              0.6666666666666666,
              "#ed7953"
             ],
             [
              0.7777777777777778,
              "#fb9f3a"
             ],
             [
              0.8888888888888888,
              "#fdca26"
             ],
             [
              1,
              "#f0f921"
             ]
            ],
            "type": "contour"
           }
          ],
          "contourcarpet": [
           {
            "colorbar": {
             "outlinewidth": 0,
             "ticks": ""
            },
            "type": "contourcarpet"
           }
          ],
          "heatmap": [
           {
            "colorbar": {
             "outlinewidth": 0,
             "ticks": ""
            },
            "colorscale": [
             [
              0,
              "#0d0887"
             ],
             [
              0.1111111111111111,
              "#46039f"
             ],
             [
              0.2222222222222222,
              "#7201a8"
             ],
             [
              0.3333333333333333,
              "#9c179e"
             ],
             [
              0.4444444444444444,
              "#bd3786"
             ],
             [
              0.5555555555555556,
              "#d8576b"
             ],
             [
              0.6666666666666666,
              "#ed7953"
             ],
             [
              0.7777777777777778,
              "#fb9f3a"
             ],
             [
              0.8888888888888888,
              "#fdca26"
             ],
             [
              1,
              "#f0f921"
             ]
            ],
            "type": "heatmap"
           }
          ],
          "heatmapgl": [
           {
            "colorbar": {
             "outlinewidth": 0,
             "ticks": ""
            },
            "colorscale": [
             [
              0,
              "#0d0887"
             ],
             [
              0.1111111111111111,
              "#46039f"
             ],
             [
              0.2222222222222222,
              "#7201a8"
             ],
             [
              0.3333333333333333,
              "#9c179e"
             ],
             [
              0.4444444444444444,
              "#bd3786"
             ],
             [
              0.5555555555555556,
              "#d8576b"
             ],
             [
              0.6666666666666666,
              "#ed7953"
             ],
             [
              0.7777777777777778,
              "#fb9f3a"
             ],
             [
              0.8888888888888888,
              "#fdca26"
             ],
             [
              1,
              "#f0f921"
             ]
            ],
            "type": "heatmapgl"
           }
          ],
          "histogram": [
           {
            "marker": {
             "colorbar": {
              "outlinewidth": 0,
              "ticks": ""
             }
            },
            "type": "histogram"
           }
          ],
          "histogram2d": [
           {
            "colorbar": {
             "outlinewidth": 0,
             "ticks": ""
            },
            "colorscale": [
             [
              0,
              "#0d0887"
             ],
             [
              0.1111111111111111,
              "#46039f"
             ],
             [
              0.2222222222222222,
              "#7201a8"
             ],
             [
              0.3333333333333333,
              "#9c179e"
             ],
             [
              0.4444444444444444,
              "#bd3786"
             ],
             [
              0.5555555555555556,
              "#d8576b"
             ],
             [
              0.6666666666666666,
              "#ed7953"
             ],
             [
              0.7777777777777778,
              "#fb9f3a"
             ],
             [
              0.8888888888888888,
              "#fdca26"
             ],
             [
              1,
              "#f0f921"
             ]
            ],
            "type": "histogram2d"
           }
          ],
          "histogram2dcontour": [
           {
            "colorbar": {
             "outlinewidth": 0,
             "ticks": ""
            },
            "colorscale": [
             [
              0,
              "#0d0887"
             ],
             [
              0.1111111111111111,
              "#46039f"
             ],
             [
              0.2222222222222222,
              "#7201a8"
             ],
             [
              0.3333333333333333,
              "#9c179e"
             ],
             [
              0.4444444444444444,
              "#bd3786"
             ],
             [
              0.5555555555555556,
              "#d8576b"
             ],
             [
              0.6666666666666666,
              "#ed7953"
             ],
             [
              0.7777777777777778,
              "#fb9f3a"
             ],
             [
              0.8888888888888888,
              "#fdca26"
             ],
             [
              1,
              "#f0f921"
             ]
            ],
            "type": "histogram2dcontour"
           }
          ],
          "mesh3d": [
           {
            "colorbar": {
             "outlinewidth": 0,
             "ticks": ""
            },
            "type": "mesh3d"
           }
          ],
          "parcoords": [
           {
            "line": {
             "colorbar": {
              "outlinewidth": 0,
              "ticks": ""
             }
            },
            "type": "parcoords"
           }
          ],
          "pie": [
           {
            "automargin": true,
            "type": "pie"
           }
          ],
          "scatter": [
           {
            "marker": {
             "colorbar": {
              "outlinewidth": 0,
              "ticks": ""
             }
            },
            "type": "scatter"
           }
          ],
          "scatter3d": [
           {
            "line": {
             "colorbar": {
              "outlinewidth": 0,
              "ticks": ""
             }
            },
            "marker": {
             "colorbar": {
              "outlinewidth": 0,
              "ticks": ""
             }
            },
            "type": "scatter3d"
           }
          ],
          "scattercarpet": [
           {
            "marker": {
             "colorbar": {
              "outlinewidth": 0,
              "ticks": ""
             }
            },
            "type": "scattercarpet"
           }
          ],
          "scattergeo": [
           {
            "marker": {
             "colorbar": {
              "outlinewidth": 0,
              "ticks": ""
             }
            },
            "type": "scattergeo"
           }
          ],
          "scattergl": [
           {
            "marker": {
             "colorbar": {
              "outlinewidth": 0,
              "ticks": ""
             }
            },
            "type": "scattergl"
           }
          ],
          "scattermapbox": [
           {
            "marker": {
             "colorbar": {
              "outlinewidth": 0,
              "ticks": ""
             }
            },
            "type": "scattermapbox"
           }
          ],
          "scatterpolar": [
           {
            "marker": {
             "colorbar": {
              "outlinewidth": 0,
              "ticks": ""
             }
            },
            "type": "scatterpolar"
           }
          ],
          "scatterpolargl": [
           {
            "marker": {
             "colorbar": {
              "outlinewidth": 0,
              "ticks": ""
             }
            },
            "type": "scatterpolargl"
           }
          ],
          "scatterternary": [
           {
            "marker": {
             "colorbar": {
              "outlinewidth": 0,
              "ticks": ""
             }
            },
            "type": "scatterternary"
           }
          ],
          "surface": [
           {
            "colorbar": {
             "outlinewidth": 0,
             "ticks": ""
            },
            "colorscale": [
             [
              0,
              "#0d0887"
             ],
             [
              0.1111111111111111,
              "#46039f"
             ],
             [
              0.2222222222222222,
              "#7201a8"
             ],
             [
              0.3333333333333333,
              "#9c179e"
             ],
             [
              0.4444444444444444,
              "#bd3786"
             ],
             [
              0.5555555555555556,
              "#d8576b"
             ],
             [
              0.6666666666666666,
              "#ed7953"
             ],
             [
              0.7777777777777778,
              "#fb9f3a"
             ],
             [
              0.8888888888888888,
              "#fdca26"
             ],
             [
              1,
              "#f0f921"
             ]
            ],
            "type": "surface"
           }
          ],
          "table": [
           {
            "cells": {
             "fill": {
              "color": "#EBF0F8"
             },
             "line": {
              "color": "white"
             }
            },
            "header": {
             "fill": {
              "color": "#C8D4E3"
             },
             "line": {
              "color": "white"
             }
            },
            "type": "table"
           }
          ]
         },
         "layout": {
          "annotationdefaults": {
           "arrowcolor": "#2a3f5f",
           "arrowhead": 0,
           "arrowwidth": 1
          },
          "coloraxis": {
           "colorbar": {
            "outlinewidth": 0,
            "ticks": ""
           }
          },
          "colorscale": {
           "diverging": [
            [
             0,
             "#8e0152"
            ],
            [
             0.1,
             "#c51b7d"
            ],
            [
             0.2,
             "#de77ae"
            ],
            [
             0.3,
             "#f1b6da"
            ],
            [
             0.4,
             "#fde0ef"
            ],
            [
             0.5,
             "#f7f7f7"
            ],
            [
             0.6,
             "#e6f5d0"
            ],
            [
             0.7,
             "#b8e186"
            ],
            [
             0.8,
             "#7fbc41"
            ],
            [
             0.9,
             "#4d9221"
            ],
            [
             1,
             "#276419"
            ]
           ],
           "sequential": [
            [
             0,
             "#0d0887"
            ],
            [
             0.1111111111111111,
             "#46039f"
            ],
            [
             0.2222222222222222,
             "#7201a8"
            ],
            [
             0.3333333333333333,
             "#9c179e"
            ],
            [
             0.4444444444444444,
             "#bd3786"
            ],
            [
             0.5555555555555556,
             "#d8576b"
            ],
            [
             0.6666666666666666,
             "#ed7953"
            ],
            [
             0.7777777777777778,
             "#fb9f3a"
            ],
            [
             0.8888888888888888,
             "#fdca26"
            ],
            [
             1,
             "#f0f921"
            ]
           ],
           "sequentialminus": [
            [
             0,
             "#0d0887"
            ],
            [
             0.1111111111111111,
             "#46039f"
            ],
            [
             0.2222222222222222,
             "#7201a8"
            ],
            [
             0.3333333333333333,
             "#9c179e"
            ],
            [
             0.4444444444444444,
             "#bd3786"
            ],
            [
             0.5555555555555556,
             "#d8576b"
            ],
            [
             0.6666666666666666,
             "#ed7953"
            ],
            [
             0.7777777777777778,
             "#fb9f3a"
            ],
            [
             0.8888888888888888,
             "#fdca26"
            ],
            [
             1,
             "#f0f921"
            ]
           ]
          },
          "colorway": [
           "#636efa",
           "#EF553B",
           "#00cc96",
           "#ab63fa",
           "#FFA15A",
           "#19d3f3",
           "#FF6692",
           "#B6E880",
           "#FF97FF",
           "#FECB52"
          ],
          "font": {
           "color": "#2a3f5f"
          },
          "geo": {
           "bgcolor": "white",
           "lakecolor": "white",
           "landcolor": "#E5ECF6",
           "showlakes": true,
           "showland": true,
           "subunitcolor": "white"
          },
          "hoverlabel": {
           "align": "left"
          },
          "hovermode": "closest",
          "mapbox": {
           "style": "light"
          },
          "paper_bgcolor": "white",
          "plot_bgcolor": "#E5ECF6",
          "polar": {
           "angularaxis": {
            "gridcolor": "white",
            "linecolor": "white",
            "ticks": ""
           },
           "bgcolor": "#E5ECF6",
           "radialaxis": {
            "gridcolor": "white",
            "linecolor": "white",
            "ticks": ""
           }
          },
          "scene": {
           "xaxis": {
            "backgroundcolor": "#E5ECF6",
            "gridcolor": "white",
            "gridwidth": 2,
            "linecolor": "white",
            "showbackground": true,
            "ticks": "",
            "zerolinecolor": "white"
           },
           "yaxis": {
            "backgroundcolor": "#E5ECF6",
            "gridcolor": "white",
            "gridwidth": 2,
            "linecolor": "white",
            "showbackground": true,
            "ticks": "",
            "zerolinecolor": "white"
           },
           "zaxis": {
            "backgroundcolor": "#E5ECF6",
            "gridcolor": "white",
            "gridwidth": 2,
            "linecolor": "white",
            "showbackground": true,
            "ticks": "",
            "zerolinecolor": "white"
           }
          },
          "shapedefaults": {
           "line": {
            "color": "#2a3f5f"
           }
          },
          "ternary": {
           "aaxis": {
            "gridcolor": "white",
            "linecolor": "white",
            "ticks": ""
           },
           "baxis": {
            "gridcolor": "white",
            "linecolor": "white",
            "ticks": ""
           },
           "bgcolor": "#E5ECF6",
           "caxis": {
            "gridcolor": "white",
            "linecolor": "white",
            "ticks": ""
           }
          },
          "title": {
           "x": 0.05
          },
          "xaxis": {
           "automargin": true,
           "gridcolor": "white",
           "linecolor": "white",
           "ticks": "",
           "title": {
            "standoff": 15
           },
           "zerolinecolor": "white",
           "zerolinewidth": 2
          },
          "yaxis": {
           "automargin": true,
           "gridcolor": "white",
           "linecolor": "white",
           "ticks": "",
           "title": {
            "standoff": 15
           },
           "zerolinecolor": "white",
           "zerolinewidth": 2
          }
         }
        }
       }
      },
      "text/html": [
       "<div>\n",
       "        \n",
       "        \n",
       "            <div id=\"241bf3d5-b8c7-4606-8476-3339311c51b1\" class=\"plotly-graph-div\" style=\"height:525px; width:100%;\"></div>\n",
       "            <script type=\"text/javascript\">\n",
       "                require([\"plotly\"], function(Plotly) {\n",
       "                    window.PLOTLYENV=window.PLOTLYENV || {};\n",
       "                    \n",
       "                if (document.getElementById(\"241bf3d5-b8c7-4606-8476-3339311c51b1\")) {\n",
       "                    Plotly.newPlot(\n",
       "                        '241bf3d5-b8c7-4606-8476-3339311c51b1',\n",
       "                        [{\"mode\": \"lines+markers\", \"name\": \"lines+markers\", \"type\": \"scatter\", \"x\": [\"2020-04-06T00:00:00\", \"2020-04-07T00:00:00\", \"2020-04-08T00:00:00\", \"2020-04-09T00:00:00\", \"2020-04-10T00:00:00\", \"2020-04-11T00:00:00\", \"2020-04-14T00:00:00\", \"2020-04-15T00:00:00\"], \"y\": [8911.0, 10328.0, 10328.0, 12210.0, 13197.0, 13832.0, 15729.0, 15729.0]}],\n",
       "                        {\"template\": {\"data\": {\"bar\": [{\"error_x\": {\"color\": \"#2a3f5f\"}, \"error_y\": {\"color\": \"#2a3f5f\"}, \"marker\": {\"line\": {\"color\": \"#E5ECF6\", \"width\": 0.5}}, \"type\": \"bar\"}], \"barpolar\": [{\"marker\": {\"line\": {\"color\": \"#E5ECF6\", \"width\": 0.5}}, \"type\": \"barpolar\"}], \"carpet\": [{\"aaxis\": {\"endlinecolor\": \"#2a3f5f\", \"gridcolor\": \"white\", \"linecolor\": \"white\", \"minorgridcolor\": \"white\", \"startlinecolor\": \"#2a3f5f\"}, \"baxis\": {\"endlinecolor\": \"#2a3f5f\", \"gridcolor\": \"white\", \"linecolor\": \"white\", \"minorgridcolor\": \"white\", \"startlinecolor\": \"#2a3f5f\"}, \"type\": \"carpet\"}], \"choropleth\": [{\"colorbar\": {\"outlinewidth\": 0, \"ticks\": \"\"}, \"type\": \"choropleth\"}], \"contour\": [{\"colorbar\": {\"outlinewidth\": 0, \"ticks\": \"\"}, \"colorscale\": [[0.0, \"#0d0887\"], [0.1111111111111111, \"#46039f\"], [0.2222222222222222, \"#7201a8\"], [0.3333333333333333, \"#9c179e\"], [0.4444444444444444, \"#bd3786\"], [0.5555555555555556, \"#d8576b\"], [0.6666666666666666, \"#ed7953\"], [0.7777777777777778, \"#fb9f3a\"], [0.8888888888888888, \"#fdca26\"], [1.0, \"#f0f921\"]], \"type\": \"contour\"}], \"contourcarpet\": [{\"colorbar\": {\"outlinewidth\": 0, \"ticks\": \"\"}, \"type\": \"contourcarpet\"}], \"heatmap\": [{\"colorbar\": {\"outlinewidth\": 0, \"ticks\": \"\"}, \"colorscale\": [[0.0, \"#0d0887\"], [0.1111111111111111, \"#46039f\"], [0.2222222222222222, \"#7201a8\"], [0.3333333333333333, \"#9c179e\"], [0.4444444444444444, \"#bd3786\"], [0.5555555555555556, \"#d8576b\"], [0.6666666666666666, \"#ed7953\"], [0.7777777777777778, \"#fb9f3a\"], [0.8888888888888888, \"#fdca26\"], [1.0, \"#f0f921\"]], \"type\": \"heatmap\"}], \"heatmapgl\": [{\"colorbar\": {\"outlinewidth\": 0, \"ticks\": \"\"}, \"colorscale\": [[0.0, \"#0d0887\"], [0.1111111111111111, \"#46039f\"], [0.2222222222222222, \"#7201a8\"], [0.3333333333333333, \"#9c179e\"], [0.4444444444444444, \"#bd3786\"], [0.5555555555555556, \"#d8576b\"], [0.6666666666666666, \"#ed7953\"], [0.7777777777777778, \"#fb9f3a\"], [0.8888888888888888, \"#fdca26\"], [1.0, \"#f0f921\"]], \"type\": \"heatmapgl\"}], \"histogram\": [{\"marker\": {\"colorbar\": {\"outlinewidth\": 0, \"ticks\": \"\"}}, \"type\": \"histogram\"}], \"histogram2d\": [{\"colorbar\": {\"outlinewidth\": 0, \"ticks\": \"\"}, \"colorscale\": [[0.0, \"#0d0887\"], [0.1111111111111111, \"#46039f\"], [0.2222222222222222, \"#7201a8\"], [0.3333333333333333, \"#9c179e\"], [0.4444444444444444, \"#bd3786\"], [0.5555555555555556, \"#d8576b\"], [0.6666666666666666, \"#ed7953\"], [0.7777777777777778, \"#fb9f3a\"], [0.8888888888888888, \"#fdca26\"], [1.0, \"#f0f921\"]], \"type\": \"histogram2d\"}], \"histogram2dcontour\": [{\"colorbar\": {\"outlinewidth\": 0, \"ticks\": \"\"}, \"colorscale\": [[0.0, \"#0d0887\"], [0.1111111111111111, \"#46039f\"], [0.2222222222222222, \"#7201a8\"], [0.3333333333333333, \"#9c179e\"], [0.4444444444444444, \"#bd3786\"], [0.5555555555555556, \"#d8576b\"], [0.6666666666666666, \"#ed7953\"], [0.7777777777777778, \"#fb9f3a\"], [0.8888888888888888, \"#fdca26\"], [1.0, \"#f0f921\"]], \"type\": \"histogram2dcontour\"}], \"mesh3d\": [{\"colorbar\": {\"outlinewidth\": 0, \"ticks\": \"\"}, \"type\": \"mesh3d\"}], \"parcoords\": [{\"line\": {\"colorbar\": {\"outlinewidth\": 0, \"ticks\": \"\"}}, \"type\": \"parcoords\"}], \"pie\": [{\"automargin\": true, \"type\": \"pie\"}], \"scatter\": [{\"marker\": {\"colorbar\": {\"outlinewidth\": 0, \"ticks\": \"\"}}, \"type\": \"scatter\"}], \"scatter3d\": [{\"line\": {\"colorbar\": {\"outlinewidth\": 0, \"ticks\": \"\"}}, \"marker\": {\"colorbar\": {\"outlinewidth\": 0, \"ticks\": \"\"}}, \"type\": \"scatter3d\"}], \"scattercarpet\": [{\"marker\": {\"colorbar\": {\"outlinewidth\": 0, \"ticks\": \"\"}}, \"type\": \"scattercarpet\"}], \"scattergeo\": [{\"marker\": {\"colorbar\": {\"outlinewidth\": 0, \"ticks\": \"\"}}, \"type\": \"scattergeo\"}], \"scattergl\": [{\"marker\": {\"colorbar\": {\"outlinewidth\": 0, \"ticks\": \"\"}}, \"type\": \"scattergl\"}], \"scattermapbox\": [{\"marker\": {\"colorbar\": {\"outlinewidth\": 0, \"ticks\": \"\"}}, \"type\": \"scattermapbox\"}], \"scatterpolar\": [{\"marker\": {\"colorbar\": {\"outlinewidth\": 0, \"ticks\": \"\"}}, \"type\": \"scatterpolar\"}], \"scatterpolargl\": [{\"marker\": {\"colorbar\": {\"outlinewidth\": 0, \"ticks\": \"\"}}, \"type\": \"scatterpolargl\"}], \"scatterternary\": [{\"marker\": {\"colorbar\": {\"outlinewidth\": 0, \"ticks\": \"\"}}, \"type\": \"scatterternary\"}], \"surface\": [{\"colorbar\": {\"outlinewidth\": 0, \"ticks\": \"\"}, \"colorscale\": [[0.0, \"#0d0887\"], [0.1111111111111111, \"#46039f\"], [0.2222222222222222, \"#7201a8\"], [0.3333333333333333, \"#9c179e\"], [0.4444444444444444, \"#bd3786\"], [0.5555555555555556, \"#d8576b\"], [0.6666666666666666, \"#ed7953\"], [0.7777777777777778, \"#fb9f3a\"], [0.8888888888888888, \"#fdca26\"], [1.0, \"#f0f921\"]], \"type\": \"surface\"}], \"table\": [{\"cells\": {\"fill\": {\"color\": \"#EBF0F8\"}, \"line\": {\"color\": \"white\"}}, \"header\": {\"fill\": {\"color\": \"#C8D4E3\"}, \"line\": {\"color\": \"white\"}}, \"type\": \"table\"}]}, \"layout\": {\"annotationdefaults\": {\"arrowcolor\": \"#2a3f5f\", \"arrowhead\": 0, \"arrowwidth\": 1}, \"coloraxis\": {\"colorbar\": {\"outlinewidth\": 0, \"ticks\": \"\"}}, \"colorscale\": {\"diverging\": [[0, \"#8e0152\"], [0.1, \"#c51b7d\"], [0.2, \"#de77ae\"], [0.3, \"#f1b6da\"], [0.4, \"#fde0ef\"], [0.5, \"#f7f7f7\"], [0.6, \"#e6f5d0\"], [0.7, \"#b8e186\"], [0.8, \"#7fbc41\"], [0.9, \"#4d9221\"], [1, \"#276419\"]], \"sequential\": [[0.0, \"#0d0887\"], [0.1111111111111111, \"#46039f\"], [0.2222222222222222, \"#7201a8\"], [0.3333333333333333, \"#9c179e\"], [0.4444444444444444, \"#bd3786\"], [0.5555555555555556, \"#d8576b\"], [0.6666666666666666, \"#ed7953\"], [0.7777777777777778, \"#fb9f3a\"], [0.8888888888888888, \"#fdca26\"], [1.0, \"#f0f921\"]], \"sequentialminus\": [[0.0, \"#0d0887\"], [0.1111111111111111, \"#46039f\"], [0.2222222222222222, \"#7201a8\"], [0.3333333333333333, \"#9c179e\"], [0.4444444444444444, \"#bd3786\"], [0.5555555555555556, \"#d8576b\"], [0.6666666666666666, \"#ed7953\"], [0.7777777777777778, \"#fb9f3a\"], [0.8888888888888888, \"#fdca26\"], [1.0, \"#f0f921\"]]}, \"colorway\": [\"#636efa\", \"#EF553B\", \"#00cc96\", \"#ab63fa\", \"#FFA15A\", \"#19d3f3\", \"#FF6692\", \"#B6E880\", \"#FF97FF\", \"#FECB52\"], \"font\": {\"color\": \"#2a3f5f\"}, \"geo\": {\"bgcolor\": \"white\", \"lakecolor\": \"white\", \"landcolor\": \"#E5ECF6\", \"showlakes\": true, \"showland\": true, \"subunitcolor\": \"white\"}, \"hoverlabel\": {\"align\": \"left\"}, \"hovermode\": \"closest\", \"mapbox\": {\"style\": \"light\"}, \"paper_bgcolor\": \"white\", \"plot_bgcolor\": \"#E5ECF6\", \"polar\": {\"angularaxis\": {\"gridcolor\": \"white\", \"linecolor\": \"white\", \"ticks\": \"\"}, \"bgcolor\": \"#E5ECF6\", \"radialaxis\": {\"gridcolor\": \"white\", \"linecolor\": \"white\", \"ticks\": \"\"}}, \"scene\": {\"xaxis\": {\"backgroundcolor\": \"#E5ECF6\", \"gridcolor\": \"white\", \"gridwidth\": 2, \"linecolor\": \"white\", \"showbackground\": true, \"ticks\": \"\", \"zerolinecolor\": \"white\"}, \"yaxis\": {\"backgroundcolor\": \"#E5ECF6\", \"gridcolor\": \"white\", \"gridwidth\": 2, \"linecolor\": \"white\", \"showbackground\": true, \"ticks\": \"\", \"zerolinecolor\": \"white\"}, \"zaxis\": {\"backgroundcolor\": \"#E5ECF6\", \"gridcolor\": \"white\", \"gridwidth\": 2, \"linecolor\": \"white\", \"showbackground\": true, \"ticks\": \"\", \"zerolinecolor\": \"white\"}}, \"shapedefaults\": {\"line\": {\"color\": \"#2a3f5f\"}}, \"ternary\": {\"aaxis\": {\"gridcolor\": \"white\", \"linecolor\": \"white\", \"ticks\": \"\"}, \"baxis\": {\"gridcolor\": \"white\", \"linecolor\": \"white\", \"ticks\": \"\"}, \"bgcolor\": \"#E5ECF6\", \"caxis\": {\"gridcolor\": \"white\", \"linecolor\": \"white\", \"ticks\": \"\"}}, \"title\": {\"x\": 0.05}, \"xaxis\": {\"automargin\": true, \"gridcolor\": \"white\", \"linecolor\": \"white\", \"ticks\": \"\", \"title\": {\"standoff\": 15}, \"zerolinecolor\": \"white\", \"zerolinewidth\": 2}, \"yaxis\": {\"automargin\": true, \"gridcolor\": \"white\", \"linecolor\": \"white\", \"ticks\": \"\", \"title\": {\"standoff\": 15}, \"zerolinecolor\": \"white\", \"zerolinewidth\": 2}}}},\n",
       "                        {\"responsive\": true}\n",
       "                    ).then(function(){\n",
       "                            \n",
       "var gd = document.getElementById('241bf3d5-b8c7-4606-8476-3339311c51b1');\n",
       "var x = new MutationObserver(function (mutations, observer) {{\n",
       "        var display = window.getComputedStyle(gd).display;\n",
       "        if (!display || display === 'none') {{\n",
       "            console.log([gd, 'removed!']);\n",
       "            Plotly.purge(gd);\n",
       "            observer.disconnect();\n",
       "        }}\n",
       "}});\n",
       "\n",
       "// Listen for the removal of the full notebook cells\n",
       "var notebookContainer = gd.closest('#notebook-container');\n",
       "if (notebookContainer) {{\n",
       "    x.observe(notebookContainer, {childList: true});\n",
       "}}\n",
       "\n",
       "// Listen for the clearing of the current output cell\n",
       "var outputEl = gd.closest('.output');\n",
       "if (outputEl) {{\n",
       "    x.observe(outputEl, {childList: true});\n",
       "}}\n",
       "\n",
       "                        })\n",
       "                };\n",
       "                });\n",
       "            </script>\n",
       "        </div>"
      ]
     },
     "metadata": {},
     "output_type": "display_data"
    }
   ],
   "source": [
    "import plotly.graph_objects as go\n",
    "fig = go.Figure()\n",
    "\n",
    "fig.add_trace(go.Scatter(x=data.date, y=data.total_deaths,\n",
    "                    mode='lines+markers',\n",
    "                    name='lines+markers'))\n",
    "fig.show()"
   ]
  },
  {
   "cell_type": "code",
   "execution_count": null,
   "metadata": {},
   "outputs": [],
   "source": []
  },
  {
   "cell_type": "code",
   "execution_count": null,
   "metadata": {},
   "outputs": [],
   "source": []
  }
 ],
 "metadata": {
  "kernelspec": {
   "display_name": "Python 3",
   "language": "python",
   "name": "python3"
  },
  "language_info": {
   "codemirror_mode": {
    "name": "ipython",
    "version": 3
   },
   "file_extension": ".py",
   "mimetype": "text/x-python",
   "name": "python",
   "nbconvert_exporter": "python",
   "pygments_lexer": "ipython3",
   "version": "3.7.6"
  },
  "toc": {
   "base_numbering": 1,
   "nav_menu": {},
   "number_sections": true,
   "sideBar": true,
   "skip_h1_title": true,
   "title_cell": "Table of Contents",
   "title_sidebar": "Contents",
   "toc_cell": true,
   "toc_position": {},
   "toc_section_display": true,
   "toc_window_display": false
  }
 },
 "nbformat": 4,
 "nbformat_minor": 4
}
