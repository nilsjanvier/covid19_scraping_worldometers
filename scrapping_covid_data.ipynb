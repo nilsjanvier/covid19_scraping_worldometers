{
 "cells": [
  {
   "cell_type": "markdown",
   "metadata": {
    "toc": true
   },
   "source": [
    "<h1>Table of Contents<span class=\"tocSkip\"></span></h1>\n",
    "<div class=\"toc\"><ul class=\"toc-item\"></ul></div>"
   ]
  },
  {
   "cell_type": "markdown",
   "metadata": {},
   "source": [
    "# Project : Scraping data from worldsometer"
   ]
  },
  {
   "cell_type": "markdown",
   "metadata": {},
   "source": [
    "Scrapping data"
   ]
  },
  {
   "cell_type": "code",
   "execution_count": 25,
   "metadata": {},
   "outputs": [],
   "source": [
    "#%%writefile example.txt\n",
    "# import scrapy\n",
    "\n",
    "\n",
    "# class PopulationSpider(scrapy.Spider):\n",
    "#     name = 'population'\n",
    "#     allowed_domains = ['https://www.worldometers.info']\n",
    "#     start_urls = ['https://www.worldometers.info/coronavirus/']\n",
    "    \n",
    "#     def parse(self, response):\n",
    "#         #title = response.xpath(\"//h1/text()\").get()\n",
    "#         #countries = response.xpath(\"//td/a/text()\").getall()\n",
    "#         test = response.xpath('//*[@id=\"main_table_countries_today\"]//tbody').getall()\n",
    "#         print(test)\n",
    "#         yield {\n",
    "#             'test': test\n",
    "#         }\n"
   ]
  },
  {
   "cell_type": "markdown",
   "metadata": {},
   "source": [
    "Read the data :"
   ]
  },
  {
   "cell_type": "code",
   "execution_count": null,
   "metadata": {},
   "outputs": [],
   "source": []
  }
 ],
 "metadata": {
  "kernelspec": {
   "display_name": "Python 3",
   "language": "python",
   "name": "python3"
  },
  "language_info": {
   "codemirror_mode": {
    "name": "ipython",
    "version": 3
   },
   "file_extension": ".py",
   "mimetype": "text/x-python",
   "name": "python",
   "nbconvert_exporter": "python",
   "pygments_lexer": "ipython3",
   "version": "3.7.6"
  },
  "toc": {
   "base_numbering": 1,
   "nav_menu": {},
   "number_sections": true,
   "sideBar": true,
   "skip_h1_title": true,
   "title_cell": "Table of Contents",
   "title_sidebar": "Contents",
   "toc_cell": true,
   "toc_position": {},
   "toc_section_display": true,
   "toc_window_display": false
  }
 },
 "nbformat": 4,
 "nbformat_minor": 4
}
